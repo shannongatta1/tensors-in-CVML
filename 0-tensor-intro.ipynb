{
 "cells": [
  {
   "cell_type": "markdown",
   "metadata": {
    "slideshow": {
     "slide_type": "slide"
    }
   },
   "source": [
    "What is a tensor?"
   ]
  },
  {
   "cell_type": "markdown",
   "metadata": {
    "slideshow": {
     "slide_type": "subslide"
    }
   },
   "source": [
    "What is a matrix?"
   ]
  },
  {
   "cell_type": "markdown",
   "metadata": {
    "slideshow": {
     "slide_type": "subslide"
    }
   },
   "source": [
    "* 2D array?\n",
    "* Linear map from vectors in $\\mathbb{R}^n$ to $\\mathbb{R}^m$ \n",
    "* Given a linear map and a basis, the coordinates in this basis are the elements of the 2D array\n",
    "* Change of basis laws"
   ]
  },
  {
   "cell_type": "markdown",
   "metadata": {
    "slideshow": {
     "slide_type": "slide"
    }
   },
   "source": [
    "Rotation example:\n",
    "\n",
    "$$\n",
    "R(\\theta) = \\left[\\begin{array}{cc} \n",
    "cos(\\theta)& -sin(\\theta)\\\\\n",
    "sin(\\theta)& cos(\\theta)\\end{array}\\right]\n",
    "$$\n",
    "    "
   ]
  },
  {
   "cell_type": "code",
   "execution_count": 17,
   "metadata": {
    "slideshow": {
     "slide_type": "subslide"
    }
   },
   "outputs": [
    {
     "name": "stdout",
     "output_type": "stream",
     "text": [
      "[[ 0 -1]\n",
      " [ 1  0]]\n",
      "[[ 0.  1.]\n",
      " [-1. -0.]]\n"
     ]
    }
   ],
   "source": [
    "#Example \\theta = 90#\n",
    "import numpy as np\n",
    "\n",
    "# rotation\n",
    "R = np.array([[0,-1],[1,0]])\n",
    "print(R)\n",
    "\n",
    "# inverse rotation\n",
    "R_inv = np.linalg.inv(R)\n",
    "print(R_inv)\n",
    "\n",
    "# vector in the standard basis\n",
    "I = np.array([[1,0],[1,0]])\n",
    "v = np.array([4,5])\n",
    "\n",
    "# coordinates of v new basis\n",
    "v_rot = np.dot(R_inv, v) "
   ]
  },
  {
   "cell_type": "markdown",
   "metadata": {},
   "source": [
    "Because vectors are tranformed by the inverse of the change of basis, they are called contravariant."
   ]
  },
  {
   "cell_type": "markdown",
   "metadata": {},
   "source": [
    "Same for tensors \n",
    "\n",
    "* T represent a multi-linear map\n",
    "\n",
    "* Tensors have outer product\n",
    "\n",
    "* Obey some coordinate tranformation laws\n",
    "\n",
    "* We can have covariant, contravariant, or mixed tensors.\n",
    "\n",
    "Examples:\n",
    "\n",
    "Matrix can represent 1 covariant, 1 contravariant tensor.\n",
    "Change \n",
    "R^{-1}T R"
   ]
  },
  {
   "cell_type": "markdown",
   "metadata": {},
   "source": [
    "In many machine learning/computer vision applications tensors are defined simply as multidimensional arrays!\n",
    "* sometimes they represent the data (no notion of a linear map)\n",
    "* sometimes represent the transformations of the data (linear map with product, but no coordinate invariance)\n",
    "\n",
    "\n",
    "We need to read the definitions carefully."
   ]
  },
  {
   "cell_type": "markdown",
   "metadata": {},
   "source": [
    "### Basic operations \n",
    " "
   ]
  },
  {
   "cell_type": "markdown",
   "metadata": {},
   "source": [
    "We will use a library called [`tensorly`](http://tensorly.org/stable/index.html) to perform basic tensor operations. It allows to perform the operations efficiently by changing the backend to `MXNet` or `PyTorch`, but here we will just use the `numpy` backend."
   ]
  },
  {
   "cell_type": "code",
   "execution_count": 131,
   "metadata": {},
   "outputs": [],
   "source": [
    "import tensorly as tl"
   ]
  },
  {
   "cell_type": "markdown",
   "metadata": {},
   "source": [
    "In `tensorly` you can easily convert a `numpy` array to a tensor."
   ]
  },
  {
   "cell_type": "code",
   "execution_count": 32,
   "metadata": {},
   "outputs": [],
   "source": []
  },
  {
   "cell_type": "code",
   "execution_count": 135,
   "metadata": {},
   "outputs": [
    {
     "data": {
      "text/plain": [
       "<matplotlib.image.AxesImage at 0x1509fccdd8>"
      ]
     },
     "execution_count": 135,
     "metadata": {},
     "output_type": "execute_result"
    },
    {
     "data": {
      "image/png": "[encoded data removed]",
      "text/plain": [
       "<Figure size 432x288 with 1 Axes>"
      ]
     },
     "metadata": {},
     "output_type": "display_data"
    }
   ],
   "source": [
    "# creating a 3x3 array\n",
    "A = np.array(range(9)).reshape((3,3))\n",
    "\n",
    "import matplotlib.pyplot as plt\n",
    "% matplotlib inline\n",
    "plt.imshow(A)"
   ]
  },
  {
   "cell_type": "code",
   "execution_count": 137,
   "metadata": {},
   "outputs": [],
   "source": [
    "T = tl.tensor(np.repeat(A,10).reshape((3,3,10)))"
   ]
  },
  {
   "cell_type": "code",
   "execution_count": 132,
   "metadata": {},
   "outputs": [
    {
     "data": {
      "text/plain": [
       "<matplotlib.image.AxesImage at 0x1509df8fd0>"
      ]
     },
     "execution_count": 132,
     "metadata": {},
     "output_type": "execute_result"
    },
    {
     "data": {
      "image/png": "[encoded data removed]",
      "text/plain": [
       "<Figure size 432x288 with 1 Axes>"
      ]
     },
     "metadata": {},
     "output_type": "display_data"
    }
   ],
   "source": [
    "\n",
    "plt.imshow(tl.unfold(T,mode = 0).reshape((3,3*10)))"
   ]
  },
  {
   "cell_type": "code",
   "execution_count": 46,
   "metadata": {},
   "outputs": [
    {
     "data": {
      "text/plain": [
       "<matplotlib.image.AxesImage at 0x1078306a0>"
      ]
     },
     "execution_count": 46,
     "metadata": {},
     "output_type": "execute_result"
    },
    {
     "data": {
      "image/png": "[encoded data removed]",
      "text/plain": [
       "<Figure size 432x288 with 1 Axes>"
      ]
     },
     "metadata": {},
     "output_type": "display_data"
    }
   ],
   "source": [
    "plt.imshow(tl.unfold(T,mode = 1))"
   ]
  },
  {
   "cell_type": "code",
   "execution_count": 48,
   "metadata": {},
   "outputs": [
    {
     "data": {
      "text/plain": [
       "<matplotlib.image.AxesImage at 0x107648a90>"
      ]
     },
     "execution_count": 48,
     "metadata": {},
     "output_type": "execute_result"
    },
    {
     "data": {
      "image/png": "[encoded data removed]",
      "text/plain": [
       "<Figure size 432x288 with 1 Axes>"
      ]
     },
     "metadata": {},
     "output_type": "display_data"
    }
   ],
   "source": [
    "plt.imshow(tl.unfold(T,mode = 2))"
   ]
  },
  {
   "cell_type": "markdown",
   "metadata": {},
   "source": [
    "Exercise: can you obtain something looking like a carpet of tiled squares\n",
    "\n",
    "Hint: use `np.rollaxis`"
   ]
  },
  {
   "cell_type": "code",
   "execution_count": 67,
   "metadata": {},
   "outputs": [],
   "source": [
    "T = tl.tensor(np.rollaxis(np.repeat(A,10).reshape((3,3,10)),2,1))"
   ]
  },
  {
   "cell_type": "code",
   "execution_count": 69,
   "metadata": {},
   "outputs": [
    {
     "data": {
      "text/plain": [
       "<matplotlib.image.AxesImage at 0x15098fd208>"
      ]
     },
     "execution_count": 69,
     "metadata": {},
     "output_type": "execute_result"
    },
    {
     "data": {
      "image/png": "[encoded data removed]",
      "text/plain": [
       "<Figure size 432x288 with 1 Axes>"
      ]
     },
     "metadata": {},
     "output_type": "display_data"
    }
   ],
   "source": [
    "plt.imshow(tl.unfold(T, mode = 0))"
   ]
  },
  {
   "cell_type": "markdown",
   "metadata": {},
   "source": [
    "### Tensor Product"
   ]
  },
  {
   "cell_type": "markdown",
   "metadata": {},
   "source": [
    "Tensor Product:\n",
    "\n",
    "* outer product\n",
    "    * of rank one tensors\n",
    "    \n",
    "* n-mode product\n",
    "    * tensor-matrix example (along fiber slices)"
   ]
  },
  {
   "cell_type": "markdown",
   "metadata": {},
   "source": [
    "***Outer Product***\n",
    "    \n",
    "Given two tensors $a$ and $b$:\n",
    "\n",
    "\n",
    "\n",
    "\n",
    "\n",
    "$a$ is a $D_1,...,D_M$ tensor\n",
    "\n",
    "$b$ is a $D_{M+1},...,D_{M+N}$ tensor\n",
    "\n",
    "$T = a\\otimes b$  is a  $D_1,...,D_{M+N}$ tensor\n",
    "\n",
    "$T_{D_1,...,D_{M+N}} = a_{D_1,...,D_M}*b_{D_{M+1},...,D_{M+N}}$\n"
   ]
  },
  {
   "cell_type": "markdown",
   "metadata": {},
   "source": []
  },
  {
   "cell_type": "markdown",
   "metadata": {},
   "source": [
    "Example: outer product for vecors $a\\in \\mathbb{R}^M$ and $b\\in \\mathbb{R}^N$:\n",
    "\n",
    "$a\\otimes b = ab^T$ is a $M\\times N$ matrix"
   ]
  },
  {
   "cell_type": "code",
   "execution_count": 126,
   "metadata": {},
   "outputs": [
    {
     "name": "stdout",
     "output_type": "stream",
     "text": [
      "(3, 3, 10)\n",
      "(3, 3)\n"
     ]
    }
   ],
   "source": [
    "print(T.shape)\n",
    "print(A.shape)"
   ]
  },
  {
   "cell_type": "markdown",
   "metadata": {},
   "source": [
    "Kronecker product returns the elements of the matrix in a vector."
   ]
  },
  {
   "cell_type": "code",
   "execution_count": 174,
   "metadata": {},
   "outputs": [
    {
     "data": {
      "text/plain": [
       "array([2., 3., 4., 6.])"
      ]
     },
     "execution_count": 174,
     "metadata": {},
     "output_type": "execute_result"
    }
   ],
   "source": [
    "tl.kron(tl.tensor(np.array([1,2])).T,tl.tensor(np.array([2,3])))"
   ]
  },
  {
   "cell_type": "markdown",
   "metadata": {},
   "source": [
    "***n-mode Product***\n",
    "\n",
    "T - tensor $D_1,...,D_N$\n",
    "\n",
    "A - matrix $J\\times D_n$ is \n",
    "\n",
    "$Y = T\\times_n A$ - tensor $D_1,...,D_n, J,D_{n+1},...,D_N$\n",
    "\n",
    "\n",
    "$Y_{d_1,...,d_{n−1},j,d_{n+1},...,d_N} = \\sum_{d_n = 1}^{D_n}T_{d_1,...,d_N}A_{j,d_n}$"
   ]
  },
  {
   "cell_type": "code",
   "execution_count": 128,
   "metadata": {},
   "outputs": [],
   "source": [
    "res = tl.tenalg.mode_dot(T, np.ones((5,3)), mode=0)"
   ]
  },
  {
   "cell_type": "code",
   "execution_count": null,
   "metadata": {},
   "outputs": [],
   "source": []
  },
  {
   "cell_type": "code",
   "execution_count": 104,
   "metadata": {},
   "outputs": [
    {
     "data": {
      "text/plain": [
       "(5, 3, 10)"
      ]
     },
     "execution_count": 104,
     "metadata": {},
     "output_type": "execute_result"
    }
   ],
   "source": [
    "res.shape"
   ]
  },
  {
   "cell_type": "code",
   "execution_count": 105,
   "metadata": {},
   "outputs": [
    {
     "data": {
      "text/plain": [
       "<matplotlib.image.AxesImage at 0x1509cec0f0>"
      ]
     },
     "execution_count": 105,
     "metadata": {},
     "output_type": "execute_result"
    },
    {
     "data": {
      "image/png": "[encoded data removed]",
      "text/plain": [
       "<Figure size 432x288 with 1 Axes>"
      ]
     },
     "metadata": {},
     "output_type": "display_data"
    }
   ],
   "source": [
    "plt.imshow(tl.unfold(res,mode=0))"
   ]
  },
  {
   "cell_type": "code",
   "execution_count": 114,
   "metadata": {},
   "outputs": [
    {
     "data": {
      "text/plain": [
       "array([[ 9., 12., 15.],\n",
       "       [ 9., 12., 15.],\n",
       "       [ 9., 12., 15.],\n",
       "       [ 9., 12., 15.],\n",
       "       [ 9., 12., 15.]])"
      ]
     },
     "execution_count": 114,
     "metadata": {},
     "output_type": "execute_result"
    }
   ],
   "source": [
    "# values sum of \n",
    "res[:,:,0]"
   ]
  },
  {
   "cell_type": "code",
   "execution_count": 115,
   "metadata": {},
   "outputs": [
    {
     "data": {
      "text/plain": [
       "array([[0, 1, 2],\n",
       "       [3, 4, 5],\n",
       "       [6, 7, 8]])"
      ]
     },
     "execution_count": 115,
     "metadata": {},
     "output_type": "execute_result"
    }
   ],
   "source": [
    "# 5 times the sum of the columns of A\n",
    "A\n"
   ]
  },
  {
   "cell_type": "markdown",
   "metadata": {},
   "source": [
    "[Link to picture](https://github.com/JeanKossaifi/tensorly-notebooks/blob/master/01_tensor_basics/tensor_manipulation.ipynb)"
   ]
  },
  {
   "cell_type": "code",
   "execution_count": null,
   "metadata": {},
   "outputs": [],
   "source": []
  }
 ],
 "metadata": {
  "celltoolbar": "Slideshow",
  "kernelspec": {
   "display_name": "Python 3",
   "language": "python",
   "name": "python3"
  },
  "language_info": {
   "codemirror_mode": {
    "name": "ipython",
    "version": 3
   },
   "file_extension": ".py",
   "mimetype": "text/x-python",
   "name": "python",
   "nbconvert_exporter": "python",
   "pygments_lexer": "ipython3",
   "version": "3.6.5"
  }
 },
 "nbformat": 4,
 "nbformat_minor": 2
}
