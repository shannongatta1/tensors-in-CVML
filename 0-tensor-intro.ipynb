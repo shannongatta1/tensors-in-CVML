{
 "cells": [
  {
   "cell_type": "markdown",
   "metadata": {},
   "source": [
    "What is a tensor?\n",
    "\n",
    "\n",
    "What is a matrix?\n",
    "\n",
    "* 2D array?\n",
    "* Linear map from vectors in $\\mathbb{R}^n$ to $\\mathbb{R}^m$ \n",
    "* Given a linear map and a basis, the coordinates in this basis are the elements of the 2D array\n",
    "* Change of basis laws\n",
    "\n",
    "\n"
   ]
  },
  {
   "cell_type": "markdown",
   "metadata": {},
   "source": [
    "Rotation example:\n",
    "\n",
    "    $R = cos(\\theta), -sin(\\theta), sin(\\theta) cos(\\theta)$\n",
    "    "
   ]
  },
  {
   "cell_type": "code",
   "execution_count": 17,
   "metadata": {},
   "outputs": [
    {
     "name": "stdout",
     "output_type": "stream",
     "text": [
      "[[ 0 -1]\n",
      " [ 1  0]]\n",
      "[[ 0.  1.]\n",
      " [-1. -0.]]\n"
     ]
    }
   ],
   "source": [
    "#Example \\theta = 90#\n",
    "import numpy as np\n",
    "\n",
    "# rotation\n",
    "R = np.array([[0,-1],[1,0]])\n",
    "print(R)\n",
    "\n",
    "# inverse rotation\n",
    "R_inv = np.linalg.inv(R)\n",
    "print(R_inv)\n",
    "\n",
    "# vector in the standard basis\n",
    "I = np.array([[1,0],[1,0]])\n",
    "v = np.array([4,5])\n",
    "\n",
    "# coordinates of v new basis\n",
    "v_rot = np.dot(R_inv, v) "
   ]
  },
  {
   "cell_type": "markdown",
   "metadata": {},
   "source": [
    "Because vectors are tranformed by the inverse of the change of basis, they are called contravariant."
   ]
  },
  {
   "cell_type": "markdown",
   "metadata": {},
   "source": [
    "Same for tensors \n",
    "\n",
    "* T represent a multi-linear map\n",
    "\n",
    "* Tensors have outer product\n",
    "\n",
    "* Obey some coordinate tranformation laws\n",
    "\n",
    "* We can have covariant, contravariant, or mixed tensors.\n",
    "\n",
    "Examples:\n",
    "\n",
    "Matrix can represent 1 covariant, 1 contravariant tensor.\n",
    "Change \n",
    "R^{-1}T R"
   ]
  },
  {
   "cell_type": "markdown",
   "metadata": {},
   "source": [
    "In many machine learning/computer vision applications tensors are defined simply as multidimensional arrays!\n",
    "* sometimes they represent the data (no notion of a linear map)\n",
    "* sometimes represent the transformations of the data (linear map with product, but no coordinate invariance)\n",
    "\n",
    "\n",
    "We need to read the definitions carefully."
   ]
  },
  {
   "cell_type": "markdown",
   "metadata": {},
   "source": [
    "### Basic operations \n",
    " "
   ]
  },
  {
   "cell_type": "markdown",
   "metadata": {},
   "source": [
    "We will use a library called [`tensorly`](http://tensorly.org/stable/index.html) to perdorm basic tensor operations."
   ]
  },
  {
   "cell_type": "code",
   "execution_count": 31,
   "metadata": {},
   "outputs": [
    {
     "name": "stderr",
     "output_type": "stream",
     "text": [
      "Using numpy backend.\n"
     ]
    }
   ],
   "source": [
    "import tensorly as tl"
   ]
  },
  {
   "cell_type": "code",
   "execution_count": 32,
   "metadata": {},
   "outputs": [],
   "source": [
    "A = np.array(range(9)).reshape((3,3))"
   ]
  },
  {
   "cell_type": "code",
   "execution_count": 70,
   "metadata": {},
   "outputs": [
    {
     "data": {
      "image/png": "[encoded data removed]",
      "text/plain": [
       "<Figure size 432x288 with 1 Axes>"
      ]
     },
     "metadata": {},
     "output_type": "display_data"
    }
   ],
   "source": [
    "import matplotlib.pyplot as plt\n",
    "% matplotlib inline\n",
    "plt.imshow(A)\n",
    "T = tl.tensor(np.repeat(A,10).reshape((3,3,10)))"
   ]
  },
  {
   "cell_type": "code",
   "execution_count": 58,
   "metadata": {},
   "outputs": [
    {
     "data": {
      "text/plain": [
       "<matplotlib.image.AxesImage at 0x15099d06a0>"
      ]
     },
     "execution_count": 58,
     "metadata": {},
     "output_type": "execute_result"
    },
    {
     "data": {
      "image/png": "[encoded data removed]",
      "text/plain": [
       "<Figure size 432x288 with 1 Axes>"
      ]
     },
     "metadata": {},
     "output_type": "display_data"
    }
   ],
   "source": [
    "plt.imshow(tl.unfold(T,mode = 0).reshape((3,3*10)))"
   ]
  },
  {
   "cell_type": "code",
   "execution_count": 46,
   "metadata": {},
   "outputs": [
    {
     "data": {
      "text/plain": [
       "<matplotlib.image.AxesImage at 0x1078306a0>"
      ]
     },
     "execution_count": 46,
     "metadata": {},
     "output_type": "execute_result"
    },
    {
     "data": {
      "image/png": "[encoded data removed]",
      "text/plain": [
       "<Figure size 432x288 with 1 Axes>"
      ]
     },
     "metadata": {},
     "output_type": "display_data"
    }
   ],
   "source": [
    "plt.imshow(tl.unfold(T,mode = 1))"
   ]
  },
  {
   "cell_type": "code",
   "execution_count": 48,
   "metadata": {},
   "outputs": [
    {
     "data": {
      "text/plain": [
       "<matplotlib.image.AxesImage at 0x107648a90>"
      ]
     },
     "execution_count": 48,
     "metadata": {},
     "output_type": "execute_result"
    },
    {
     "data": {
      "image/png": "[encoded data removed]",
      "text/plain": [
       "<Figure size 432x288 with 1 Axes>"
      ]
     },
     "metadata": {},
     "output_type": "display_data"
    }
   ],
   "source": [
    "plt.imshow(tl.unfold(T,mode = 2))"
   ]
  },
  {
   "cell_type": "markdown",
   "metadata": {},
   "source": [
    "Exercise: can you obtain something looking like a carpet of tiled squares\n",
    "Hint: use `np.rollaxis`"
   ]
  },
  {
   "cell_type": "code",
   "execution_count": 67,
   "metadata": {},
   "outputs": [],
   "source": [
    "T = tl.tensor(np.rollaxis(np.repeat(A,10).reshape((3,3,10)),2,1))"
   ]
  },
  {
   "cell_type": "code",
   "execution_count": 69,
   "metadata": {},
   "outputs": [
    {
     "data": {
      "text/plain": [
       "<matplotlib.image.AxesImage at 0x15098fd208>"
      ]
     },
     "execution_count": 69,
     "metadata": {},
     "output_type": "execute_result"
    },
    {
     "data": {
      "image/png": "[encoded data removed]",
      "text/plain": [
       "<Figure size 432x288 with 1 Axes>"
      ]
     },
     "metadata": {},
     "output_type": "display_data"
    }
   ],
   "source": [
    "plt.imshow(tl.unfold(T, mode = 0))"
   ]
  },
  {
   "cell_type": "code",
   "execution_count": null,
   "metadata": {},
   "outputs": [],
   "source": []
  }
 ],
 "metadata": {
  "kernelspec": {
   "display_name": "Python 3",
   "language": "python",
   "name": "python3"
  },
  "language_info": {
   "codemirror_mode": {
    "name": "ipython",
    "version": 3
   },
   "file_extension": ".py",
   "mimetype": "text/x-python",
   "name": "python",
   "nbconvert_exporter": "python",
   "pygments_lexer": "ipython3",
   "version": "3.6.5"
  }
 },
 "nbformat": 4,
 "nbformat_minor": 2
}
