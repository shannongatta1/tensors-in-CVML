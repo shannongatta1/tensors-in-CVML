{
 "cells": [
  {
   "cell_type": "markdown",
   "metadata": {},
   "source": [
    "### Tensor Decompositions\n",
    "\n",
    "In many machine learning applications we use matrix decompositions/factor analysis (PCA, NMF, ...) to reduce the dimensionality of the data and discover features in an unsupervised manner. Factor analysis can be extended to multidimensional arrays, and there is not only one way to do it.\n",
    "\n",
    "A peek at the zoo of factorizations: [factorization zoo](https://github.com/andrewssobral/lrslibrary).\n",
    "\n",
    "* ***Kruskal Tensor Decomposition***\n",
    "    * Parafac, Candecomp, Canonical Polyadic, CP\n",
    "    * sum of rank-1 tensors\n",
    "    * like eigenvalue decomposition\n",
    "    * generally unique\n",
    "    * linear\n",
    "    * more interpretable?\n",
    "    \n",
    "    \n",
    "* ***Tucker Tensor Decomposition***\n",
    "    * core tensor - different dimensions, different groups \n",
    "    * non-unique (due to the core)\n",
    "    * like PCA\n",
    "    * multilinear\n",
    "    * more compact?"
   ]
  },
  {
   "cell_type": "markdown",
   "metadata": {},
   "source": [
    "***Kruskal Decomposition***\n",
    "![](img/CP.png)\n",
    "Source: [\"Tensor Decompositions for Signal Processing Applications\", Cichocki et.al.](https://arxiv.org/pdf/1403.4462.pdf)\n"
   ]
  },
  {
   "cell_type": "markdown",
   "metadata": {},
   "source": [
    "***Tucker Decomposition***\n",
    "![](img/Tucker.png)\n",
    "Source: [\"Tensor Decompositions for Signal Processing Applications\", Cichocki et.al.](https://arxiv.org/pdf/1403.4462.pdf)"
   ]
  },
  {
   "cell_type": "markdown",
   "metadata": {},
   "source": [
    "Solution:\n",
    "    alternating least squares (some version)\n",
    "    \n",
    "* fix B,C, optimize A\n",
    "* fix A,C, optimize B\n",
    "* fix A,B, optimize C"
   ]
  },
  {
   "cell_type": "markdown",
   "metadata": {},
   "source": [
    "Robustness:\n",
    "\n",
    "* adding regularizers\n",
    "* additional constraints - orthogonality, nonnegativity"
   ]
  },
  {
   "cell_type": "markdown",
   "metadata": {},
   "source": [
    "Other Relevant Topics:\n",
    "* Online Implementation\n",
    "* Bayesian Tensor Decomposition"
   ]
  },
  {
   "cell_type": "code",
   "execution_count": null,
   "metadata": {},
   "outputs": [],
   "source": []
  }
 ],
 "metadata": {
  "kernelspec": {
   "display_name": "Python 3",
   "language": "python",
   "name": "python3"
  },
  "language_info": {
   "codemirror_mode": {
    "name": "ipython",
    "version": 3
   },
   "file_extension": ".py",
   "mimetype": "text/x-python",
   "name": "python",
   "nbconvert_exporter": "python",
   "pygments_lexer": "ipython3",
   "version": "3.6.5"
  }
 },
 "nbformat": 4,
 "nbformat_minor": 2
}
